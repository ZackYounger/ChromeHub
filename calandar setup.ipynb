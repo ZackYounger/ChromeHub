{
 "cells": [
  {
   "cell_type": "code",
   "execution_count": 1,
   "outputs": [],
   "source": [
    "import csv"
   ],
   "metadata": {
    "collapsed": false,
    "pycharm": {
     "name": "#%%\n"
    }
   }
  },
  {
   "cell_type": "code",
   "execution_count": 2,
   "outputs": [],
   "source": [
    "daysInMonths = [31,28,31,30,31,30,31,31,30,31,30,31]\n",
    "months = ['Jan','Feb','Mar','Apr','May','Jun','Jul','Aug','Sep','Oct','Nov','Dec']"
   ],
   "metadata": {
    "collapsed": false,
    "pycharm": {
     "name": "#%%\n"
    }
   }
  },
  {
   "cell_type": "code",
   "execution_count": 10,
   "outputs": [],
   "source": [
    "def indexToDate(index):\n",
    "      i=0\n",
    "      while index > daysInMonths[i]:\n",
    "            index -= daysInMonths[i]\n",
    "            i += 1\n",
    "      return {'day' : str(index), 'month': months[i]}\n"
   ],
   "metadata": {
    "collapsed": false,
    "pycharm": {
     "name": "#%%\n"
    }
   }
  },
  {
   "cell_type": "code",
   "execution_count": 18,
   "outputs": [],
   "source": [
    "cal = [{'day': indexToDate(i)['day'],\n",
    "        'month': indexToDate(i)['month'],\n",
    "      'pure': 0,\n",
    "      'stats': 0,\n",
    "      'mech': 0,\n",
    "      'physics': 0,\n",
    "      'compsci': 0,} for i in range(1, 366)]\n",
    "\n",
    "#deactivated so data is not deleted\n",
    "\n",
    "with open('static/data/','w', newline='') as file:\n",
    "      w = csv.DictWriter(file,fieldnames=cal[0].keys(),)\n",
    "      w.writeheader()\n",
    "      w.writerows(cal)"
   ],
   "metadata": {
    "collapsed": false,
    "pycharm": {
     "name": "#%%\n"
    }
   }
  },
  {
   "cell_type": "code",
   "execution_count": null,
   "outputs": [],
   "source": [],
   "metadata": {
    "collapsed": false,
    "pycharm": {
     "name": "#%%\n"
    }
   }
  }
 ],
 "metadata": {
  "kernelspec": {
   "display_name": "Python 3",
   "language": "python",
   "name": "python3"
  },
  "language_info": {
   "codemirror_mode": {
    "name": "ipython",
    "version": 2
   },
   "file_extension": ".py",
   "mimetype": "text/x-python",
   "name": "python",
   "nbconvert_exporter": "python",
   "pygments_lexer": "ipython2",
   "version": "2.7.6"
  }
 },
 "nbformat": 4,
 "nbformat_minor": 0
}